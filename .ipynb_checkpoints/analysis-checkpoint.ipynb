{
 "cells": [
  {
   "cell_type": "code",
   "execution_count": 2,
   "id": "grateful-tobacco",
   "metadata": {},
   "outputs": [],
   "source": [
    "import pickle\n",
    "import pandas as pd\n",
    "pd.set_option('display.precision',12)\n",
    "import matplotlib.pyplot as plt"
   ]
  },
  {
   "cell_type": "code",
   "execution_count": 3,
   "id": "stuffed-crisis",
   "metadata": {},
   "outputs": [
    {
     "data": {
      "text/html": [
       "<div>\n",
       "<style scoped>\n",
       "    .dataframe tbody tr th:only-of-type {\n",
       "        vertical-align: middle;\n",
       "    }\n",
       "\n",
       "    .dataframe tbody tr th {\n",
       "        vertical-align: top;\n",
       "    }\n",
       "\n",
       "    .dataframe thead th {\n",
       "        text-align: right;\n",
       "    }\n",
       "</style>\n",
       "<table border=\"1\" class=\"dataframe\">\n",
       "  <thead>\n",
       "    <tr style=\"text-align: right;\">\n",
       "      <th></th>\n",
       "      <th>#test</th>\n",
       "      <th>#cities</th>\n",
       "      <th>frontier</th>\n",
       "      <th>time</th>\n",
       "      <th>generated</th>\n",
       "      <th>expanded</th>\n",
       "    </tr>\n",
       "  </thead>\n",
       "  <tbody>\n",
       "    <tr>\n",
       "      <th>0</th>\n",
       "      <td>test#0</td>\n",
       "      <td>5</td>\n",
       "      <td>1</td>\n",
       "      <td>0.000027</td>\n",
       "      <td>39</td>\n",
       "      <td>62</td>\n",
       "    </tr>\n",
       "    <tr>\n",
       "      <th>1</th>\n",
       "      <td>test#0</td>\n",
       "      <td>10</td>\n",
       "      <td>0</td>\n",
       "      <td>0.089436</td>\n",
       "      <td>109601</td>\n",
       "      <td>109600</td>\n",
       "    </tr>\n",
       "    <tr>\n",
       "      <th>2</th>\n",
       "      <td>test#0</td>\n",
       "      <td>15</td>\n",
       "      <td>-1</td>\n",
       "      <td>-1</td>\n",
       "      <td>-1</td>\n",
       "      <td>-1</td>\n",
       "    </tr>\n",
       "    <tr>\n",
       "      <th>3</th>\n",
       "      <td>test#0</td>\n",
       "      <td>20</td>\n",
       "      <td>-1</td>\n",
       "      <td>-1</td>\n",
       "      <td>-1</td>\n",
       "      <td>-1</td>\n",
       "    </tr>\n",
       "    <tr>\n",
       "      <th>4</th>\n",
       "      <td>test#0</td>\n",
       "      <td>24</td>\n",
       "      <td>-1</td>\n",
       "      <td>-1</td>\n",
       "      <td>-1</td>\n",
       "      <td>-1</td>\n",
       "    </tr>\n",
       "  </tbody>\n",
       "</table>\n",
       "</div>"
      ],
      "text/plain": [
       "    #test  #cities frontier      time generated expanded\n",
       "0  test#0        5        1  0.000027        39       62\n",
       "1  test#0       10        0  0.089436    109601   109600\n",
       "2  test#0       15       -1        -1        -1       -1\n",
       "3  test#0       20       -1        -1        -1       -1\n",
       "4  test#0       24       -1        -1        -1       -1"
      ]
     },
     "execution_count": 3,
     "metadata": {},
     "output_type": "execute_result"
    }
   ],
   "source": [
    "with open('df.pickle', \"rb\") as input_file:\n",
    "        df = pickle.load(input_file)\n",
    "df.head()"
   ]
  },
  {
   "cell_type": "code",
   "execution_count": 6,
   "id": "compressed-aging",
   "metadata": {},
   "outputs": [
    {
     "data": {
      "text/html": [
       "<div>\n",
       "<style scoped>\n",
       "    .dataframe tbody tr th:only-of-type {\n",
       "        vertical-align: middle;\n",
       "    }\n",
       "\n",
       "    .dataframe tbody tr th {\n",
       "        vertical-align: top;\n",
       "    }\n",
       "\n",
       "    .dataframe thead th {\n",
       "        text-align: right;\n",
       "    }\n",
       "</style>\n",
       "<table border=\"1\" class=\"dataframe\">\n",
       "  <thead>\n",
       "    <tr style=\"text-align: right;\">\n",
       "      <th></th>\n",
       "      <th>#test</th>\n",
       "      <th>#cities</th>\n",
       "      <th>frontier</th>\n",
       "      <th>time</th>\n",
       "      <th>generated</th>\n",
       "      <th>expanded</th>\n",
       "    </tr>\n",
       "  </thead>\n",
       "  <tbody>\n",
       "    <tr>\n",
       "      <th>0</th>\n",
       "      <td>test#0</td>\n",
       "      <td>5</td>\n",
       "      <td>1</td>\n",
       "      <td>0.000027</td>\n",
       "      <td>39</td>\n",
       "      <td>62</td>\n",
       "    </tr>\n",
       "    <tr>\n",
       "      <th>1</th>\n",
       "      <td>test#0</td>\n",
       "      <td>10</td>\n",
       "      <td>0</td>\n",
       "      <td>0.089436</td>\n",
       "      <td>109601</td>\n",
       "      <td>109600</td>\n",
       "    </tr>\n",
       "    <tr>\n",
       "      <th>2</th>\n",
       "      <td>test#0</td>\n",
       "      <td>15</td>\n",
       "      <td>-1</td>\n",
       "      <td>3600.000000</td>\n",
       "      <td>-1</td>\n",
       "      <td>-1</td>\n",
       "    </tr>\n",
       "    <tr>\n",
       "      <th>3</th>\n",
       "      <td>test#0</td>\n",
       "      <td>20</td>\n",
       "      <td>-1</td>\n",
       "      <td>3600.000000</td>\n",
       "      <td>-1</td>\n",
       "      <td>-1</td>\n",
       "    </tr>\n",
       "    <tr>\n",
       "      <th>4</th>\n",
       "      <td>test#0</td>\n",
       "      <td>24</td>\n",
       "      <td>-1</td>\n",
       "      <td>3600.000000</td>\n",
       "      <td>-1</td>\n",
       "      <td>-1</td>\n",
       "    </tr>\n",
       "    <tr>\n",
       "      <th>...</th>\n",
       "      <td>...</td>\n",
       "      <td>...</td>\n",
       "      <td>...</td>\n",
       "      <td>...</td>\n",
       "      <td>...</td>\n",
       "      <td>...</td>\n",
       "    </tr>\n",
       "    <tr>\n",
       "      <th>79</th>\n",
       "      <td>test#14</td>\n",
       "      <td>5</td>\n",
       "      <td>3</td>\n",
       "      <td>0.000029</td>\n",
       "      <td>36</td>\n",
       "      <td>53</td>\n",
       "    </tr>\n",
       "    <tr>\n",
       "      <th>80</th>\n",
       "      <td>test#14</td>\n",
       "      <td>10</td>\n",
       "      <td>4</td>\n",
       "      <td>0.005476</td>\n",
       "      <td>4658</td>\n",
       "      <td>7107</td>\n",
       "    </tr>\n",
       "    <tr>\n",
       "      <th>81</th>\n",
       "      <td>test#14</td>\n",
       "      <td>15</td>\n",
       "      <td>11</td>\n",
       "      <td>4.069964</td>\n",
       "      <td>758459</td>\n",
       "      <td>1935184</td>\n",
       "    </tr>\n",
       "    <tr>\n",
       "      <th>82</th>\n",
       "      <td>test#14</td>\n",
       "      <td>20</td>\n",
       "      <td>20</td>\n",
       "      <td>268.243964</td>\n",
       "      <td>16188231</td>\n",
       "      <td>65590379</td>\n",
       "    </tr>\n",
       "    <tr>\n",
       "      <th>83</th>\n",
       "      <td>test#14</td>\n",
       "      <td>25</td>\n",
       "      <td>-1</td>\n",
       "      <td>3600.000000</td>\n",
       "      <td>-1</td>\n",
       "      <td>-1</td>\n",
       "    </tr>\n",
       "  </tbody>\n",
       "</table>\n",
       "<p>84 rows × 6 columns</p>\n",
       "</div>"
      ],
      "text/plain": [
       "      #test  #cities  frontier         time  generated  expanded\n",
       "0    test#0        5         1     0.000027         39        62\n",
       "1    test#0       10         0     0.089436     109601    109600\n",
       "2    test#0       15        -1  3600.000000         -1        -1\n",
       "3    test#0       20        -1  3600.000000         -1        -1\n",
       "4    test#0       24        -1  3600.000000         -1        -1\n",
       "..      ...      ...       ...          ...        ...       ...\n",
       "79  test#14        5         3     0.000029         36        53\n",
       "80  test#14       10         4     0.005476       4658      7107\n",
       "81  test#14       15        11     4.069964     758459   1935184\n",
       "82  test#14       20        20   268.243964   16188231  65590379\n",
       "83  test#14       25        -1  3600.000000         -1        -1\n",
       "\n",
       "[84 rows x 6 columns]"
      ]
     },
     "execution_count": 6,
     "metadata": {},
     "output_type": "execute_result"
    }
   ],
   "source": [
    "\n",
    "df['#cities'] = df['#cities'].astype('int32')\n",
    "df.frontier = df.frontier.astype('int32')\n",
    "df.time = df.time.astype('float')\n",
    "df.time.replace({-1.0:3600.0},inplace=True)\n",
    "df.generated = df.generated.astype('int')\n",
    "df.expanded = df.expanded.astype('int')\n",
    "df"
   ]
  },
  {
   "cell_type": "markdown",
   "id": "falling-suspect",
   "metadata": {},
   "source": [
    "Frontier size for #cities"
   ]
  },
  {
   "cell_type": "code",
   "execution_count": 45,
   "id": "continuous-symbol",
   "metadata": {},
   "outputs": [
    {
     "data": {
      "text/plain": [
       "array(['test#0', 'test#1', 'test#2', 'test#3', 'test#4', 'test#5',\n",
       "       'test#6', 'test#7', 'test#8', 'test#9', 'test#10', 'test#11',\n",
       "       'test#12', 'test#13', 'test#14'], dtype=object)"
      ]
     },
     "execution_count": 45,
     "metadata": {},
     "output_type": "execute_result"
    }
   ],
   "source": [
    "for t in df['#test'].unique():\n",
    "    df[df['#test']==t]"
   ]
  },
  {
   "cell_type": "code",
   "execution_count": 88,
   "id": "inclusive-welcome",
   "metadata": {},
   "outputs": [
    {
     "name": "stdout",
     "output_type": "stream",
     "text": [
      "<pandas.core.groupby.generic.DataFrameGroupBy object at 0x7f929ab70e80>\n"
     ]
    }
   ],
   "source": [
    "df_test = df.groupby('#cities') \n"
   ]
  },
  {
   "cell_type": "code",
   "execution_count": 97,
   "id": "heated-shaft",
   "metadata": {},
   "outputs": [
    {
     "data": {
      "text/plain": [
       "array([ 5, 10, 15, 20, 24, 25, 26, 30, 23, 27, 28], dtype=int32)"
      ]
     },
     "execution_count": 97,
     "metadata": {},
     "output_type": "execute_result"
    }
   ],
   "source": [
    "cities = df['#cities'].unique() \n",
    "cities"
   ]
  },
  {
   "cell_type": "code",
   "execution_count": 115,
   "id": "medium-nelson",
   "metadata": {},
   "outputs": [],
   "source": [
    "gen_mean = []\n",
    "exp_mean = []\n",
    "time_mean = []\n",
    "it = 0\n",
    "\n",
    "for key,item in df_test:\n",
    "    it+=1\n",
    "    #print(item)\n",
    "    gen_mean.append(0 if item.generated.mean() == -1.0 else item.generated.mean())\n",
    "    exp_mean.append(0 if item.expanded.mean() == -1.0 else item.expanded.mean() )\n",
    "    time_mean.append(0 if item.time.mean() == -1.0 else item.time.mean())\n",
    "\n",
    "def plot_mean_gen(gen_mean):\n",
    "    plt.scatter(cities,gen_mean)\n",
    "    plt.plot(cities, gen_mean)\n",
    "    plt.show()\n",
    "def plot_mean_exp(exp_mean):\n",
    "    plt.scatter(cities,exp_mean)\n",
    "    plt.plot(cities, exp_mean)\n",
    "    plt.show()\n",
    "def plot_mean_time(time_mean):\n",
    "    plt.scatter(cities,time_mean)\n",
    "    plt.plot(cities, time_mean)\n",
    "    plt.show()"
   ]
  },
  {
   "cell_type": "code",
   "execution_count": 117,
   "id": "hungry-league",
   "metadata": {},
   "outputs": [
    {
     "data": {
      "image/png": "[encoded data removed]",
      "text/plain": [
       "<Figure size 432x288 with 1 Axes>"
      ]
     },
     "metadata": {
      "needs_background": "light"
     },
     "output_type": "display_data"
    }
   ],
   "source": [
    "plot_mean_gen(gen_mean)"
   ]
  },
  {
   "cell_type": "code",
   "execution_count": 118,
   "id": "stable-mitchell",
   "metadata": {},
   "outputs": [
    {
     "data": {
      "image/png": "[encoded data removed]",
      "text/plain": [
       "<Figure size 432x288 with 1 Axes>"
      ]
     },
     "metadata": {
      "needs_background": "light"
     },
     "output_type": "display_data"
    }
   ],
   "source": [
    "plot_mean_exp(exp_mean)"
   ]
  },
  {
   "cell_type": "code",
   "execution_count": 120,
   "id": "trained-conversation",
   "metadata": {},
   "outputs": [
    {
     "data": {
      "image/png": "[encoded data removed]",
      "text/plain": [
       "<Figure size 432x288 with 1 Axes>"
      ]
     },
     "metadata": {
      "needs_background": "light"
     },
     "output_type": "display_data"
    }
   ],
   "source": [
    "plot_mean_time(time_mean)"
   ]
  },
  {
   "cell_type": "code",
   "execution_count": 5,
   "id": "eligible-judges",
   "metadata": {},
   "outputs": [
    {
     "data": {
      "text/html": [
       "<div>\n",
       "<style scoped>\n",
       "    .dataframe tbody tr th:only-of-type {\n",
       "        vertical-align: middle;\n",
       "    }\n",
       "\n",
       "    .dataframe tbody tr th {\n",
       "        vertical-align: top;\n",
       "    }\n",
       "\n",
       "    .dataframe thead th {\n",
       "        text-align: right;\n",
       "    }\n",
       "</style>\n",
       "<table border=\"1\" class=\"dataframe\">\n",
       "  <thead>\n",
       "    <tr style=\"text-align: right;\">\n",
       "      <th></th>\n",
       "      <th>#test</th>\n",
       "      <th>#cities</th>\n",
       "      <th>frontier</th>\n",
       "      <th>time</th>\n",
       "      <th>generated</th>\n",
       "      <th>expanded</th>\n",
       "    </tr>\n",
       "  </thead>\n",
       "  <tbody>\n",
       "    <tr>\n",
       "      <th>0</th>\n",
       "      <td>test#0</td>\n",
       "      <td>5</td>\n",
       "      <td>1</td>\n",
       "      <td>0.000027</td>\n",
       "      <td>39</td>\n",
       "      <td>62</td>\n",
       "    </tr>\n",
       "    <tr>\n",
       "      <th>1</th>\n",
       "      <td>test#0</td>\n",
       "      <td>10</td>\n",
       "      <td>0</td>\n",
       "      <td>0.089436</td>\n",
       "      <td>109601</td>\n",
       "      <td>109600</td>\n",
       "    </tr>\n",
       "    <tr>\n",
       "      <th>2</th>\n",
       "      <td>test#0</td>\n",
       "      <td>15</td>\n",
       "      <td>-1</td>\n",
       "      <td>-1.000000</td>\n",
       "      <td>-1</td>\n",
       "      <td>-1</td>\n",
       "    </tr>\n",
       "    <tr>\n",
       "      <th>3</th>\n",
       "      <td>test#0</td>\n",
       "      <td>20</td>\n",
       "      <td>-1</td>\n",
       "      <td>-1.000000</td>\n",
       "      <td>-1</td>\n",
       "      <td>-1</td>\n",
       "    </tr>\n",
       "    <tr>\n",
       "      <th>4</th>\n",
       "      <td>test#0</td>\n",
       "      <td>24</td>\n",
       "      <td>-1</td>\n",
       "      <td>-1.000000</td>\n",
       "      <td>-1</td>\n",
       "      <td>-1</td>\n",
       "    </tr>\n",
       "    <tr>\n",
       "      <th>...</th>\n",
       "      <td>...</td>\n",
       "      <td>...</td>\n",
       "      <td>...</td>\n",
       "      <td>...</td>\n",
       "      <td>...</td>\n",
       "      <td>...</td>\n",
       "    </tr>\n",
       "    <tr>\n",
       "      <th>79</th>\n",
       "      <td>test#14</td>\n",
       "      <td>5</td>\n",
       "      <td>3</td>\n",
       "      <td>0.000029</td>\n",
       "      <td>36</td>\n",
       "      <td>53</td>\n",
       "    </tr>\n",
       "    <tr>\n",
       "      <th>80</th>\n",
       "      <td>test#14</td>\n",
       "      <td>10</td>\n",
       "      <td>4</td>\n",
       "      <td>0.005476</td>\n",
       "      <td>4658</td>\n",
       "      <td>7107</td>\n",
       "    </tr>\n",
       "    <tr>\n",
       "      <th>81</th>\n",
       "      <td>test#14</td>\n",
       "      <td>15</td>\n",
       "      <td>11</td>\n",
       "      <td>4.069964</td>\n",
       "      <td>758459</td>\n",
       "      <td>1935184</td>\n",
       "    </tr>\n",
       "    <tr>\n",
       "      <th>82</th>\n",
       "      <td>test#14</td>\n",
       "      <td>20</td>\n",
       "      <td>20</td>\n",
       "      <td>268.243964</td>\n",
       "      <td>16188231</td>\n",
       "      <td>65590379</td>\n",
       "    </tr>\n",
       "    <tr>\n",
       "      <th>83</th>\n",
       "      <td>test#14</td>\n",
       "      <td>25</td>\n",
       "      <td>-1</td>\n",
       "      <td>-1.000000</td>\n",
       "      <td>-1</td>\n",
       "      <td>-1</td>\n",
       "    </tr>\n",
       "  </tbody>\n",
       "</table>\n",
       "<p>84 rows × 6 columns</p>\n",
       "</div>"
      ],
      "text/plain": [
       "      #test  #cities  frontier        time  generated  expanded\n",
       "0    test#0        5         1    0.000027         39        62\n",
       "1    test#0       10         0    0.089436     109601    109600\n",
       "2    test#0       15        -1   -1.000000         -1        -1\n",
       "3    test#0       20        -1   -1.000000         -1        -1\n",
       "4    test#0       24        -1   -1.000000         -1        -1\n",
       "..      ...      ...       ...         ...        ...       ...\n",
       "79  test#14        5         3    0.000029         36        53\n",
       "80  test#14       10         4    0.005476       4658      7107\n",
       "81  test#14       15        11    4.069964     758459   1935184\n",
       "82  test#14       20        20  268.243964   16188231  65590379\n",
       "83  test#14       25        -1   -1.000000         -1        -1\n",
       "\n",
       "[84 rows x 6 columns]"
      ]
     },
     "execution_count": 5,
     "metadata": {},
     "output_type": "execute_result"
    }
   ],
   "source": []
  },
  {
   "cell_type": "code",
   "execution_count": 9,
   "id": "danish-press",
   "metadata": {},
   "outputs": [
    {
     "ename": "AttributeError",
     "evalue": "module 'pandas' has no attribute 'Dataframe'",
     "output_type": "error",
     "traceback": [
      "\u001b[0;31m---------------------------------------------------------------------------\u001b[0m",
      "\u001b[0;31mAttributeError\u001b[0m                            Traceback (most recent call last)",
      "\u001b[0;32m<ipython-input-9-cc4e076081aa>\u001b[0m in \u001b[0;36m<module>\u001b[0;34m\u001b[0m\n\u001b[1;32m     10\u001b[0m \u001b[0;34m\u001b[0m\u001b[0m\n\u001b[1;32m     11\u001b[0m \u001b[0;34m\u001b[0m\u001b[0m\n\u001b[0;32m---> 12\u001b[0;31m \u001b[0mtime_by_cities\u001b[0m \u001b[0;34m=\u001b[0m \u001b[0mpd\u001b[0m\u001b[0;34m.\u001b[0m\u001b[0mDataframe\u001b[0m\u001b[0;34m(\u001b[0m\u001b[0;34m{\u001b[0m\u001b[0;34m'mean'\u001b[0m\u001b[0;34m:\u001b[0m\u001b[0mmean_time\u001b[0m\u001b[0;34m,\u001b[0m\u001b[0;34m'max'\u001b[0m\u001b[0;34m:\u001b[0m\u001b[0mmax_times\u001b[0m\u001b[0;34m,\u001b[0m\u001b[0;34m'min'\u001b[0m\u001b[0;34m:\u001b[0m\u001b[0mmin_times\u001b[0m\u001b[0;34m}\u001b[0m\u001b[0;34m,\u001b[0m \u001b[0mindex\u001b[0m\u001b[0;34m=\u001b[0m\u001b[0mdf\u001b[0m\u001b[0;34m[\u001b[0m\u001b[0;34m'#cities'\u001b[0m\u001b[0;34m]\u001b[0m\u001b[0;34m.\u001b[0m\u001b[0munique\u001b[0m\u001b[0;34m(\u001b[0m\u001b[0;34m)\u001b[0m \u001b[0;34m)\u001b[0m\u001b[0;34m\u001b[0m\u001b[0;34m\u001b[0m\u001b[0m\n\u001b[0m\u001b[1;32m     13\u001b[0m \u001b[0;34m\u001b[0m\u001b[0m\n",
      "\u001b[0;32m~/miniconda3/lib/python3.8/site-packages/pandas/__init__.py\u001b[0m in \u001b[0;36m__getattr__\u001b[0;34m(name)\u001b[0m\n\u001b[1;32m    242\u001b[0m         \u001b[0;32mreturn\u001b[0m \u001b[0m_SparseArray\u001b[0m\u001b[0;34m\u001b[0m\u001b[0;34m\u001b[0m\u001b[0m\n\u001b[1;32m    243\u001b[0m \u001b[0;34m\u001b[0m\u001b[0m\n\u001b[0;32m--> 244\u001b[0;31m     \u001b[0;32mraise\u001b[0m \u001b[0mAttributeError\u001b[0m\u001b[0;34m(\u001b[0m\u001b[0;34mf\"module 'pandas' has no attribute '{name}'\"\u001b[0m\u001b[0;34m)\u001b[0m\u001b[0;34m\u001b[0m\u001b[0;34m\u001b[0m\u001b[0m\n\u001b[0m\u001b[1;32m    245\u001b[0m \u001b[0;34m\u001b[0m\u001b[0m\n\u001b[1;32m    246\u001b[0m \u001b[0;34m\u001b[0m\u001b[0m\n",
      "\u001b[0;31mAttributeError\u001b[0m: module 'pandas' has no attribute 'Dataframe'"
     ]
    }
   ],
   "source": [
    "mean_times = []\n",
    "max_times = []\n",
    "min_times = []\n",
    "by_test = df.groupby('#cities')\n",
    "for key,item in by_test:\n",
    "    mean_times.append(item.time.mean())\n",
    "    max_times.append(item.time.max())\n",
    "    min_times.append(item.time.min())\n",
    "    \n",
    "\n",
    "\n",
    "time_by_cities = pd.DataFrame({'mean':mean_time,'max':max_times,'min':min_times}, index=df['#cities'].unique() )\n",
    "\n"
   ]
  },
  {
   "cell_type": "code",
   "execution_count": null,
   "id": "funded-navigator",
   "metadata": {},
   "outputs": [],
   "source": []
  }
 ],
 "metadata": {
  "kernelspec": {
   "display_name": "Python 3",
   "language": "python",
   "name": "python3"
  },
  "language_info": {
   "codemirror_mode": {
    "name": "ipython",
    "version": 3
   },
   "file_extension": ".py",
   "mimetype": "text/x-python",
   "name": "python",
   "nbconvert_exporter": "python",
   "pygments_lexer": "ipython3",
   "version": "3.8.3"
  }
 },
 "nbformat": 4,
 "nbformat_minor": 5
}
